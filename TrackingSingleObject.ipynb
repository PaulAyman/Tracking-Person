{
 "cells": [
  {
   "cell_type": "markdown",
   "metadata": {},
   "source": [
    "1. read frame\n",
    "2. setup ROI\n",
    "3. tracker type + Init\n",
    "\n",
    "LOOP-------------------------------\n",
    "4. read frame\n",
    "5. tracker update frame\n",
    "6. if success -> draw bbox\n",
    "7. imshow + wait\n",
    "-----------------------------------"
   ]
  },
  {
   "cell_type": "code",
   "execution_count": 5,
   "metadata": {},
   "outputs": [],
   "source": [
    "import cv2\n",
    "import imutils"
   ]
  },
  {
   "cell_type": "code",
   "execution_count": 6,
   "metadata": {},
   "outputs": [],
   "source": [
    "TrDict = {\n",
    "    'csrt': cv2.legacy.TrackerCSRT_create,\n",
    "    'kcf' : cv2.legacy.TrackerKCF_create,\n",
    "    'boosting' : cv2.legacy.TrackerBoosting_create,\n",
    "    'mil': cv2.legacy.TrackerMIL_create,\n",
    "    'tld': cv2.legacy.TrackerTLD_create,\n",
    "    'medianflow': cv2.legacy.TrackerMedianFlow_create,\n",
    "    'mosse': cv2.legacy.TrackerMOSSE_create\n",
    "}"
   ]
  },
  {
   "cell_type": "code",
   "execution_count": 7,
   "metadata": {},
   "outputs": [],
   "source": [
    "tracker = TrDict['csrt']()\n",
    "#tracker = cv2.TrackerCSRT_create()"
   ]
  },
  {
   "cell_type": "code",
   "execution_count": 8,
   "metadata": {},
   "outputs": [],
   "source": [
    "#v = cv2.VideoCapture(r'D:\\mot.mp4') # video\n",
    "v = cv2.VideoCapture(0)"
   ]
  },
  {
   "cell_type": "code",
   "execution_count": 2,
   "metadata": {},
   "outputs": [
    {
     "ename": "NameError",
     "evalue": "name 'v' is not defined",
     "output_type": "error",
     "traceback": [
      "\u001b[1;31m---------------------------------------------------------------------------\u001b[0m",
      "\u001b[1;31mNameError\u001b[0m                                 Traceback (most recent call last)",
      "Cell \u001b[1;32mIn[2], line 1\u001b[0m\n\u001b[1;32m----> 1\u001b[0m ret, frame \u001b[38;5;241m=\u001b[39m \u001b[43mv\u001b[49m\u001b[38;5;241m.\u001b[39mread()\n\u001b[0;32m      2\u001b[0m frame \u001b[38;5;241m=\u001b[39m imutils\u001b[38;5;241m.\u001b[39mresize(frame,width\u001b[38;5;241m=\u001b[39m\u001b[38;5;241m600\u001b[39m)\n\u001b[0;32m      3\u001b[0m cv2\u001b[38;5;241m.\u001b[39mimshow(\u001b[38;5;124m'\u001b[39m\u001b[38;5;124mFrame\u001b[39m\u001b[38;5;124m'\u001b[39m,frame)\n",
      "\u001b[1;31mNameError\u001b[0m: name 'v' is not defined"
     ]
    }
   ],
   "source": [
    "ret, frame = v.read()\n",
    "frame = imutils.resize(frame,width=600)\n",
    "cv2.imshow('Frame',frame)\n",
    "bb = cv2.selectROI('Frame',frame)\n",
    "tracker.init(frame,bb)"
   ]
  },
  {
   "cell_type": "code",
   "execution_count": null,
   "metadata": {},
   "outputs": [],
   "source": [
    "while True:\n",
    "    ret, frame = v.read()\n",
    "    if not ret:\n",
    "        break\n",
    "    frame = imutils.resize(frame,width=600)\n",
    "    (success,box) = tracker.update(frame)   \n",
    "    if success:\n",
    "        (x,y,w,h) = [int(a) for a in box]\n",
    "        cv2.rectangle(frame,(x,y),(x+w,y+h),(100,255,0),2)\n",
    "    cv2.imshow('Frame',frame)\n",
    "    key = cv2.waitKey(5) & 0xFF\n",
    "    if key == ord('q'):\n",
    "        break\n",
    "v.release()\n",
    "cv2.destroyAllWindows()\n",
    "        \n",
    "    \n",
    "    "
   ]
  },
  {
   "cell_type": "code",
   "execution_count": null,
   "metadata": {},
   "outputs": [],
   "source": []
  }
 ],
 "metadata": {
  "kernelspec": {
   "display_name": "Python 3",
   "language": "python",
   "name": "python3"
  },
  "language_info": {
   "codemirror_mode": {
    "name": "ipython",
    "version": 3
   },
   "file_extension": ".py",
   "mimetype": "text/x-python",
   "name": "python",
   "nbconvert_exporter": "python",
   "pygments_lexer": "ipython3",
   "version": "3.11.3"
  }
 },
 "nbformat": 4,
 "nbformat_minor": 2
}
